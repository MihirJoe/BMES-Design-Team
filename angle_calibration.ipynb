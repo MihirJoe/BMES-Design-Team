{
 "cells": [
  {
   "cell_type": "code",
   "execution_count": 9,
   "metadata": {},
   "outputs": [
    {
     "name": "stdout",
     "output_type": "stream",
     "text": [
      "Mean Absolute Error: 0.1473335153857516\n",
      "Predictions within ±0.1 tolerance: False\n",
      "Prediction for new test sample (14.6): 15.19959689579912\n"
     ]
    }
   ],
   "source": [
    "import numpy as np\n",
    "from sklearn.linear_model import LinearRegression\n",
    "from sklearn.\n",
    "from sklearn.metrics import mean_absolute_error\n",
    "\n",
    "# Prepare the data (switching actual and test roles)\n",
    "test = np.array([4.95, 4.72, 4.8, 4.9, 4.95, 4.9, 4.87, 4.84, 4.77, 9.86, 9.8, 9.83, 10.05, 10.06, 10.02, 9.8, 9.83, 9.87, 14.03, 14.05, 14.02, 14.72, 14.7, 14.73, 14.62, 14.68, 14.79, 19.57, 19.54, 19.56, 19.89, 19.82, 19.89, 19.69, 19.74, 19.79]).reshape(-1, 1)\n",
    "actual = np.array([5, 5, 5, 5, 5, 5, 5, 5, 5, 10, 10, 10, 10, 10, 10, 10, 10, 10, 15, 15, 15, 15, 15, 15, 15, 15, 15, 20, 20, 20, 20, 20, 20, 20, 20, 20])\n",
    "\n",
    "# Create and fit the model\n",
    "model = Polyno()\n",
    "model.fit(test, actual)\n",
    "\n",
    "# Make predictions\n",
    "predictions = model.predict(test)\n",
    "\n",
    "# Evaluate the model\n",
    "mae = mean_absolute_error(actual, predictions)\n",
    "within_tolerance = np.all(np.abs(predictions - actual) <= 0.2)\n",
    "\n",
    "print(f\"Mean Absolute Error: {mae}\")\n",
    "print(f\"Predictions within ±0.2 tolerance: {within_tolerance}\")\n",
    "\n",
    "# Test the model with new sample\n",
    "new_test_sample = np.array([[14.9]])\n",
    "new_actual_prediction = model.predict(new_test_sample)\n",
    "print(f\"Prediction for new test sample (14.6): {new_actual_prediction[0]}\")\n"
   ]
  },
  {
   "cell_type": "code",
   "execution_count": null,
   "metadata": {},
   "outputs": [],
   "source": [
    "data = [4.9, 4.95, 4.9, 10.05, 10.06, 10.02, 14.72, 14.7, 14.73, 19.89, 19.82, 19.89]\n"
   ]
  },
  {
   "cell_type": "code",
   "execution_count": 37,
   "metadata": {},
   "outputs": [
    {
     "name": "stdout",
     "output_type": "stream",
     "text": [
      "Mean Absolute Error: 0.15646743283669617\n",
      "Predictions within ±0.1 tolerance: True\n",
      "Prediction for new test sample 15.039773809397365): 15.392209100199457\n",
      "Mean Absolute Error: 0.15646743283669617\n",
      "Predictions within ±0.1 tolerance: False\n"
     ]
    }
   ],
   "source": [
    "import numpy as np\n",
    "from sklearn.linear_model import LinearRegression\n",
    "from sklearn.preprocessing import PolynomialFeatures\n",
    "from sklearn.metrics import mean_absolute_error\n",
    "import random\n",
    "\n",
    "# Prepare the data (switching actual and test roles)\n",
    "test = np.array([4.95, 4.72, 4.8, 4.9, 4.95, 4.9, 4.87, 4.84, 4.77, 9.86, 9.8, 9.83, 10.05, 10.06, 10.02, 9.8, 9.83, 9.87, 14.03, 14.05, 14.02, 14.72, 14.7, 14.73, 14.62, 14.68, 14.79, 19.57, 19.54, 19.56, 19.89, 19.82, 19.89, 19.69, 19.74, 19.79]).reshape(-1, 1)\n",
    "actual = np.array([5, 5, 5, 5, 5, 5, 5, 5, 5, 10, 10, 10, 10, 10, 10, 10, 10, 10, 15, 15, 15, 15, 15, 15, 15, 15, 15, 20, 20, 20, 20, 20, 20, 20, 20, 20])\n",
    "\n",
    "# Create polynomial features\n",
    "degree = 2  # You can adjust the degree as needed\n",
    "poly = PolynomialFeatures(degree)\n",
    "test_poly = poly.fit_transform(test)\n",
    "\n",
    "# Create and fit the polynomial regression model\n",
    "model = LinearRegression()\n",
    "model.fit(test_poly, actual)\n",
    "\n",
    "# Make predictions\n",
    "predictions = model.predict(test_poly)\n",
    "\n",
    "# Evaluate the model\n",
    "mae = mean_absolute_error(actual, predictions)\n",
    "within_tolerance = np.mean(np.abs(predictions - actual)) <= 0.2\n",
    "\n",
    "print(f\"Mean Absolute Error: {mae}\")\n",
    "print(f\"Predictions within ±0.1 tolerance: {within_tolerance}\")\n",
    "\n",
    "# Test the model with a new sample\n",
    "new_sample_data = [4.9, 4.95, 4.9, 10.05, 10.06, 10.02, 14.72, 14.7, 14.73, 19.89, 19.82, 19.89]\n",
    "data2 = [5, 5, 5, 10, 10, 10, 15, 15, 15, 20, 20, 20]\n",
    "new_test_sample = np.array([[new_sample_data]])\n",
    "new_test_sample_poly = poly.transform(new_test_sample)\n",
    "new_actual_prediction = model.predict(new_test_sample_poly)\n",
    "print(f\"Prediction for new test sample {new_sample}): {new_actual_prediction[0]}\")\n",
    "\n",
    "mae = mean_absolute_error(actual, predictions)\n",
    "within_tolerance = np.all(np.abs(predictions - actual) <= 0.1)\n",
    "\n",
    "print(f\"Mean Absolute Error: {mae}\")\n",
    "print(f\"Predictions within ±0.1 tolerance: {within_tolerance}\")\n"
   ]
  },
  {
   "cell_type": "code",
   "execution_count": 39,
   "metadata": {},
   "outputs": [
    {
     "name": "stdout",
     "output_type": "stream",
     "text": [
      "Mean Absolute Error: 0.14850660389796086\n",
      "Predictions within ±0.2 tolerance: True\n"
     ]
    },
    {
     "name": "stderr",
     "output_type": "stream",
     "text": [
      "/var/folders/zq/gw91vncx7hgcs9mspyj7dtk40000gn/T/ipykernel_43545/3174958293.py:8: DeprecationWarning: Conversion of an array with ndim > 0 to a scalar is deprecated, and will error in future. Ensure you extract a single element from your array before performing this operation. (Deprecated NumPy 1.25.)\n",
      "  predicted_data[i] = model.predict(new_test_sample_poly)\n",
      "/var/folders/zq/gw91vncx7hgcs9mspyj7dtk40000gn/T/ipykernel_43545/3174958293.py:8: DeprecationWarning: Conversion of an array with ndim > 0 to a scalar is deprecated, and will error in future. Ensure you extract a single element from your array before performing this operation. (Deprecated NumPy 1.25.)\n",
      "  predicted_data[i] = model.predict(new_test_sample_poly)\n",
      "/var/folders/zq/gw91vncx7hgcs9mspyj7dtk40000gn/T/ipykernel_43545/3174958293.py:8: DeprecationWarning: Conversion of an array with ndim > 0 to a scalar is deprecated, and will error in future. Ensure you extract a single element from your array before performing this operation. (Deprecated NumPy 1.25.)\n",
      "  predicted_data[i] = model.predict(new_test_sample_poly)\n",
      "/var/folders/zq/gw91vncx7hgcs9mspyj7dtk40000gn/T/ipykernel_43545/3174958293.py:8: DeprecationWarning: Conversion of an array with ndim > 0 to a scalar is deprecated, and will error in future. Ensure you extract a single element from your array before performing this operation. (Deprecated NumPy 1.25.)\n",
      "  predicted_data[i] = model.predict(new_test_sample_poly)\n",
      "/var/folders/zq/gw91vncx7hgcs9mspyj7dtk40000gn/T/ipykernel_43545/3174958293.py:8: DeprecationWarning: Conversion of an array with ndim > 0 to a scalar is deprecated, and will error in future. Ensure you extract a single element from your array before performing this operation. (Deprecated NumPy 1.25.)\n",
      "  predicted_data[i] = model.predict(new_test_sample_poly)\n",
      "/var/folders/zq/gw91vncx7hgcs9mspyj7dtk40000gn/T/ipykernel_43545/3174958293.py:8: DeprecationWarning: Conversion of an array with ndim > 0 to a scalar is deprecated, and will error in future. Ensure you extract a single element from your array before performing this operation. (Deprecated NumPy 1.25.)\n",
      "  predicted_data[i] = model.predict(new_test_sample_poly)\n",
      "/var/folders/zq/gw91vncx7hgcs9mspyj7dtk40000gn/T/ipykernel_43545/3174958293.py:8: DeprecationWarning: Conversion of an array with ndim > 0 to a scalar is deprecated, and will error in future. Ensure you extract a single element from your array before performing this operation. (Deprecated NumPy 1.25.)\n",
      "  predicted_data[i] = model.predict(new_test_sample_poly)\n",
      "/var/folders/zq/gw91vncx7hgcs9mspyj7dtk40000gn/T/ipykernel_43545/3174958293.py:8: DeprecationWarning: Conversion of an array with ndim > 0 to a scalar is deprecated, and will error in future. Ensure you extract a single element from your array before performing this operation. (Deprecated NumPy 1.25.)\n",
      "  predicted_data[i] = model.predict(new_test_sample_poly)\n",
      "/var/folders/zq/gw91vncx7hgcs9mspyj7dtk40000gn/T/ipykernel_43545/3174958293.py:8: DeprecationWarning: Conversion of an array with ndim > 0 to a scalar is deprecated, and will error in future. Ensure you extract a single element from your array before performing this operation. (Deprecated NumPy 1.25.)\n",
      "  predicted_data[i] = model.predict(new_test_sample_poly)\n",
      "/var/folders/zq/gw91vncx7hgcs9mspyj7dtk40000gn/T/ipykernel_43545/3174958293.py:8: DeprecationWarning: Conversion of an array with ndim > 0 to a scalar is deprecated, and will error in future. Ensure you extract a single element from your array before performing this operation. (Deprecated NumPy 1.25.)\n",
      "  predicted_data[i] = model.predict(new_test_sample_poly)\n",
      "/var/folders/zq/gw91vncx7hgcs9mspyj7dtk40000gn/T/ipykernel_43545/3174958293.py:8: DeprecationWarning: Conversion of an array with ndim > 0 to a scalar is deprecated, and will error in future. Ensure you extract a single element from your array before performing this operation. (Deprecated NumPy 1.25.)\n",
      "  predicted_data[i] = model.predict(new_test_sample_poly)\n",
      "/var/folders/zq/gw91vncx7hgcs9mspyj7dtk40000gn/T/ipykernel_43545/3174958293.py:8: DeprecationWarning: Conversion of an array with ndim > 0 to a scalar is deprecated, and will error in future. Ensure you extract a single element from your array before performing this operation. (Deprecated NumPy 1.25.)\n",
      "  predicted_data[i] = model.predict(new_test_sample_poly)\n"
     ]
    }
   ],
   "source": [
    "new_sample_data = [4.9, 4.95, 4.9, 10.05, 10.06, 10.02, 14.72, 14.7, 14.73, 19.89, 19.82, 19.89]\n",
    "data2 = [5, 5, 5, 10, 10, 10, 15, 15, 15, 20, 20, 20]\n",
    "predicted_data = np.zeros(len(new_sample_data))\n",
    "abs_error = np.zeros(len(new_sample_data))\n",
    "for i in range(len(new_sample_data)):\n",
    "    new_test_sample = np.array([[new_sample_data[i]]])\n",
    "    new_test_sample_poly = poly.transform(new_test_sample)\n",
    "    predicted_data[i] = model.predict(new_test_sample_poly)\n",
    "    abs_error[i] = np.abs(predicted_data[i] - data2[i])\n",
    "    \n",
    "mae = mean_absolute_error(data2, predicted_data)\n",
    "tolerance = 0.2\n",
    "within_tolerance = np.mean(np.abs(predicted_data - data2)) <= tolerance\n",
    "\n",
    "print(f\"Mean Absolute Error: {mae}\")\n",
    "print(f\"Predictions within ±{tolerance} tolerance: {within_tolerance}\")"
   ]
  },
  {
   "cell_type": "code",
   "execution_count": 40,
   "metadata": {},
   "outputs": [
    {
     "data": {
      "text/plain": [
       "array([ 4.99509067,  5.04748256,  4.99509067, 10.33299431, 10.34324432,\n",
       "       10.30224161, 15.07130905, 15.05122348, 15.08135116, 20.20370343,\n",
       "       20.13500722, 20.20370343])"
      ]
     },
     "execution_count": 40,
     "metadata": {},
     "output_type": "execute_result"
    }
   ],
   "source": [
    "predicted_data"
   ]
  },
  {
   "cell_type": "code",
   "execution_count": 41,
   "metadata": {},
   "outputs": [
    {
     "data": {
      "text/plain": [
       "array([0.00490933, 0.04748256, 0.00490933, 0.33299431, 0.34324432,\n",
       "       0.30224161, 0.07130905, 0.05122348, 0.08135116, 0.20370343,\n",
       "       0.13500722, 0.20370343])"
      ]
     },
     "execution_count": 41,
     "metadata": {},
     "output_type": "execute_result"
    }
   ],
   "source": [
    "abs_error"
   ]
  },
  {
   "cell_type": "code",
   "execution_count": 27,
   "metadata": {},
   "outputs": [
    {
     "data": {
      "text/plain": [
       "{'copy_X': True, 'fit_intercept': True, 'n_jobs': None, 'positive': False}"
      ]
     },
     "execution_count": 27,
     "metadata": {},
     "output_type": "execute_result"
    }
   ],
   "source": [
    "model"
   ]
  },
  {
   "cell_type": "code",
   "execution_count": 33,
   "metadata": {},
   "outputs": [
    {
     "name": "stdout",
     "output_type": "stream",
     "text": [
      "Mean Absolute Error: 0.02194889036517699\n",
      "Predictions within ±0.1 tolerance: False\n",
      "Prediction for new measured sample (2.5): 2.2147692584828365\n"
     ]
    }
   ],
   "source": [
    "import numpy as np\n",
    "from sklearn.linear_model import LinearRegression\n",
    "from sklearn.preprocessing import PolynomialFeatures\n",
    "from sklearn.metrics import mean_absolute_error\n",
    "\n",
    "# Data\n",
    "measured_values = [\n",
    "    2.428308, 2.590308, 2.625692, 2.604461, 2.576462, 2.574615, 2.581231, 2.578154, 2.583539, \n",
    "    2.576769, 2.532923, 1.603077, 1.599385, 1.598769, 1.597846, 1.597077, 1.599692, 1.593538, \n",
    "    0.088923, 0.062308, 0.054615, 0.078923, 0.049231, 0.051539, 0.055692, 0.055231, 0.056154, \n",
    "    0.047692, 0.045385, 0.054, 0.042462, 0.046462\n",
    "]\n",
    "\n",
    "actual_values = [\n",
    "    3.6, 3.6, 3.6, 3.6, 3.6, 3.6, 3.6, 3.6, 3.6, 3.6, 3.6, 2.20462, 2.20462, 2.20462, 2.20462, \n",
    "    2.20462, 2.20462, 2.20462, 0, 0, 0, 0, 0, 0, 0, 0, 0, 0, 0, 0, 0, 0\n",
    "]\n",
    "\n",
    "# Convert to numpy arrays\n",
    "measured_array = np.array(measured_values).reshape(-1, 1)\n",
    "actual_array = np.array(actual_values)\n",
    "\n",
    "# Create polynomial features\n",
    "degree = 2  # You can adjust the degree as needed\n",
    "poly = PolynomialFeatures(degree)\n",
    "measured_poly = poly.fit_transform(measured_array)\n",
    "\n",
    "# Create and fit the polynomial regression model\n",
    "model = LinearRegression()\n",
    "model.fit(measured_poly, actual_array)\n",
    "\n",
    "# Make predictions\n",
    "predictions = model.predict(measured_poly)\n",
    "\n",
    "# Evaluate the model\n",
    "mae = mean_absolute_error(actual_array, predictions)\n",
    "within_tolerance = np.all(np.abs(predictions - actual_array) <= 0.1)\n",
    "\n",
    "print(f\"Mean Absolute Error: {mae}\")\n",
    "print(f\"Predictions within ±0.1 tolerance: {within_tolerance}\")\n",
    "\n",
    "# Test the model with new sample\n",
    "new_measured_sample = np.array([[1.6]])  # Example new data point\n",
    "new_measured_sample_poly = poly.transform(new_measured_sample)\n",
    "new_actual_prediction = model.predict(new_measured_sample_poly)\n",
    "print(f\"Prediction for new measured sample (2.5): {new_actual_prediction[0]}\")\n"
   ]
  },
  {
   "cell_type": "code",
   "execution_count": null,
   "metadata": {},
   "outputs": [],
   "source": [
    "import joblib\n",
    "# Export the model and polynomial features\n",
    "joblib.dump(model, 'polynomial_regression_model.joblib')\n",
    "joblib.dump(poly, 'polynomial_features.joblib')\n",
    "\n",
    "print(\"Model and polynomial features exported successfully.\")"
   ]
  },
  {
   "cell_type": "code",
   "execution_count": null,
   "metadata": {},
   "outputs": [],
   "source": [
    "# Load the model and polynomial features\n",
    "model = joblib.load('polynomial_regression_model.joblib')\n",
    "poly = joblib.load('polynomial_features.joblib')\n",
    "\n",
    "# Example new data point\n",
    "new_measured_sample = np.array([[2.5]])\n",
    "new_measured_sample_poly = poly.transform(new_measured_sample)\n",
    "new_actual_prediction = model.predict(new_measured_sample_poly)"
   ]
  }
 ],
 "metadata": {
  "kernelspec": {
   "display_name": "base",
   "language": "python",
   "name": "python3"
  },
  "language_info": {
   "codemirror_mode": {
    "name": "ipython",
    "version": 3
   },
   "file_extension": ".py",
   "mimetype": "text/x-python",
   "name": "python",
   "nbconvert_exporter": "python",
   "pygments_lexer": "ipython3",
   "version": "3.11.5"
  }
 },
 "nbformat": 4,
 "nbformat_minor": 2
}
